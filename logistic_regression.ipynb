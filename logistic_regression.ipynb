{
  "cells": [
    {
      "cell_type": "markdown",
      "metadata": {
        "id": "hY15CwBFTC4c"
      },
      "source": [
        "In this second part of the lab, we will implement a language identifier trained on the same data, but using Logistic Regression instead of Naive Bayes."
      ]
    },
    {
      "cell_type": "code",
      "execution_count": 18,
      "metadata": {
        "id": "URXnIh1sTC4d"
      },
      "outputs": [],
      "source": [
        "import io, sys, math\n",
        "import numpy as np\n",
        "from collections import defaultdict"
      ]
    },
    {
      "cell_type": "markdown",
      "metadata": {
        "id": "jtaRnPO-TC4e"
      },
      "source": [
        "This function is used to build the dictionary, or vocabulary, which is a mapping from strings (or words) to integers (or indices). This will allow to build vector representations of documents. "
      ]
    },
    {
      "cell_type": "code",
      "execution_count": 19,
      "metadata": {
        "id": "Sn6ntu4DTC4e"
      },
      "outputs": [],
      "source": [
        "def build_dict(filename, threshold=1):\n",
        "    fin = io.open(filename, 'r', encoding='utf-8')\n",
        "    word_dict, label_dict = {}, {}\n",
        "    counts = defaultdict(lambda: 0)\n",
        "    for line in fin:\n",
        "        tokens = line.split()\n",
        "        label = tokens[0]\n",
        "\n",
        "        if not label in label_dict:\n",
        "            label_dict[label] = len(label_dict)\n",
        "\n",
        "        for w in tokens[1:]:\n",
        "            counts[w] += 1\n",
        "            \n",
        "    for k, v in counts.items():\n",
        "        if v > threshold:\n",
        "            word_dict[k] = len(word_dict)\n",
        "    return word_dict, label_dict"
      ]
    },
    {
      "cell_type": "markdown",
      "metadata": {
        "id": "sZL1ODw4TC4f"
      },
      "source": [
        "This function is used to load the training dataset, and build vector representations of the training examples. In particular, a document or sentence is represented as a bag of words. Each example correspond to a sparse vector ` x` of dimension `V`, where `V` is the size of the vocabulary. The element `j` of the vector `x` is the number of times the word `j` appears in the document."
      ]
    },
    {
      "cell_type": "code",
      "execution_count": 20,
      "metadata": {
        "id": "xUqv7qk2TC4f"
      },
      "outputs": [],
      "source": [
        "def load_data(filename, word_dict, label_dict):\n",
        "    fin = io.open(filename, 'r', encoding='utf-8')\n",
        "    data = []\n",
        "    dim = len(word_dict)\n",
        "    for line in fin:\n",
        "        tokens = line.split()\n",
        "        label = tokens[0]\n",
        "\n",
        "        yi = label_dict[label]\n",
        "        xi = np.zeros(dim)\n",
        "        for word in tokens[1:]:\n",
        "            if word in word_dict:\n",
        "                wid = word_dict[word]\n",
        "                xi[wid] += 1.0\n",
        "        data.append((yi, xi))\n",
        "    return data"
      ]
    },
    {
      "cell_type": "markdown",
      "metadata": {
        "id": "mmRT5IoCTC4f"
      },
      "source": [
        "First, let's implement the softmax function. Don't forget numerical stability!"
      ]
    },
    {
      "cell_type": "code",
      "execution_count": 21,
      "metadata": {
        "id": "uhyvjWK9TC4g"
      },
      "outputs": [],
      "source": [
        "def softmax(x):\n",
        "    e= x-max(x)\n",
        "    n=np.exp(e)\n",
        "    d=np.sum(n)\n",
        "    return n/d"
      ]
    },
    {
      "cell_type": "markdown",
      "metadata": {
        "id": "Wxf1JZUZTC4g"
      },
      "source": [
        "Now, let's implement the main training loop, by using stochastic gradient descent. The function will iterate over the examples of the training set. For each example, we will first compute the loss, before computing the gradient and performing the update."
      ]
    },
    {
      "cell_type": "code",
      "execution_count": 22,
      "metadata": {
        "id": "9YLdqVHfTC4g"
      },
      "outputs": [],
      "source": [
        "def sgd(w, data, niter):\n",
        "    nlabels, dim = w.shape\n",
        "    for iter in range(niter):\n",
        "        ### FILL CODE\n",
        "      train_error=0.0\n",
        "      for y, x in data:\n",
        "        pred= softmax(np.dot(w, x))\n",
        "        train_error+= math.log(pred[y])\n",
        "        zero_vec=np.zeros(nlabels)\n",
        "        zero_vec[y]= 1.0\n",
        "        error= pred-zero_vec\n",
        "        gradient= error.reshape(nlabels, 1)*x.reshape((1, dim))\n",
        "        w= w- 0.5*gradient\n",
        "      print(\"iter: %02d loss: %.3f\" % (iter, train_error/len(data)))\n",
        "    return w"
      ]
    },
    {
      "cell_type": "markdown",
      "metadata": {
        "id": "JUVhnpu_TC4h"
      },
      "source": [
        "The next function will predict the most probable label corresponding to example `x`, given the trained classifier `w`."
      ]
    },
    {
      "cell_type": "code",
      "execution_count": 23,
      "metadata": {
        "id": "WFeDkRypTC4h"
      },
      "outputs": [],
      "source": [
        "def predict(w, x):\n",
        "    ## FILL CODE\n",
        "  return np.argmax(softmax(np.dot(w,x)))"
      ]
    },
    {
      "cell_type": "markdown",
      "metadata": {
        "id": "h8zHQg_tTC4h"
      },
      "source": [
        "Finally, this function will compute the accuracy of a trained classifier `w` on a validation set."
      ]
    },
    {
      "cell_type": "code",
      "execution_count": 24,
      "metadata": {
        "id": "ltmvXcCOTC4h"
      },
      "outputs": [],
      "source": [
        "def compute_accuracy(w, valid_data):\n",
        "    ## FILL CODE\n",
        "    accuracy = 0.0\n",
        "    for y_i, x_i in valid_data:\n",
        "      prediction= predict(w, x_i)\n",
        "      if prediction == y_i:\n",
        "        accuracy+=1.0\n",
        "    print(accuracy)\n",
        "    return (accuracy/float(len(valid_data))) * 100.00"
      ]
    },
    {
      "cell_type": "code",
      "execution_count": 25,
      "metadata": {
        "colab": {
          "base_uri": "https://localhost:8080/"
        },
        "id": "7XaKlu7kTC4h",
        "outputId": "93de9a09-a715-430e-e01d-8a2815546830"
      },
      "outputs": [
        {
          "output_type": "stream",
          "name": "stdout",
          "text": [
            "\n",
            "** Logistic Regression **\n",
            "\n",
            "iter: 00 loss: -0.491\n",
            "iter: 01 loss: -0.205\n",
            "iter: 02 loss: -0.156\n",
            "iter: 03 loss: -0.131\n",
            "iter: 04 loss: -0.117\n",
            "\n",
            "933.0\n",
            "Validation accuracy: 93.300\n",
            "\n"
          ]
        }
      ],
      "source": [
        "print(\"\")\n",
        "print(\"** Logistic Regression **\")\n",
        "print(\"\")\n",
        "\n",
        "word_dict, label_dict = build_dict(\"train1.txt\")\n",
        "train_data = load_data(\"train1.txt\", word_dict, label_dict)\n",
        "valid_data = load_data(\"valid1.txt\", word_dict, label_dict)\n",
        "\n",
        "nlabels = len(label_dict)\n",
        "dim = len(word_dict)\n",
        "w = np.zeros([nlabels, dim])\n",
        "w = sgd(w, train_data, 5)\n",
        "print(\"\")\n",
        "print(\"Validation accuracy: %.3f\" % compute_accuracy(w, valid_data))\n",
        "print(\"\")"
      ]
    },
    {
      "cell_type": "code",
      "source": [
        ""
      ],
      "metadata": {
        "id": "3xtdtRAaNBQ9"
      },
      "execution_count": null,
      "outputs": []
    }
  ],
  "metadata": {
    "kernelspec": {
      "display_name": "Python 3",
      "language": "python",
      "name": "python3"
    },
    "language_info": {
      "codemirror_mode": {
        "name": "ipython",
        "version": 3
      },
      "file_extension": ".py",
      "mimetype": "text/x-python",
      "name": "python",
      "nbconvert_exporter": "python",
      "pygments_lexer": "ipython3",
      "version": "3.6.2+"
    },
    "colab": {
      "name": "logistic_regression.ipynb",
      "provenance": []
    }
  },
  "nbformat": 4,
  "nbformat_minor": 0
}