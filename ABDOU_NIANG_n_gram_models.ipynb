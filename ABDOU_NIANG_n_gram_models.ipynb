{
  "cells": [
    {
      "cell_type": "markdown",
      "metadata": {
        "id": "view-in-github",
        "colab_type": "text"
      },
      "source": [
        "<a href=\"https://colab.research.google.com/github/abdou70/NLP_WEEK1_lab1/blob/main/ABDOU_NIANG_n_gram_models.ipynb\" target=\"_parent\"><img src=\"https://colab.research.google.com/assets/colab-badge.svg\" alt=\"Open In Colab\"/></a>"
      ]
    },
    {
      "cell_type": "markdown",
      "metadata": {
        "id": "DJe_QVehxAX2"
      },
      "source": [
        "\n",
        "<h1 style=\"font-family:verdana;font-size:300%;text-align:center;background-color:#f2f2f2;color:#0d0d0d\">AMMI NLP - Review sessions</h1>\n",
        "\n",
        "<h1 style=\"font-family:verdana;font-size:180%;text-align:Center;color:#993333\"> Lab 3: n-gram models </h1>"
      ]
    },
    {
      "cell_type": "markdown",
      "metadata": {
        "id": "N8WPPi3KxAX4"
      },
      "source": [
        "**Big thanks to Amr Khalifa who improved this lab and made it to a Jupyter Notebook!**"
      ]
    },
    {
      "cell_type": "code",
      "execution_count": 2,
      "metadata": {
        "id": "zFZsBHa_xAX5"
      },
      "outputs": [],
      "source": [
        "import io, sys, math, re\n",
        "from collections import defaultdict\n",
        "import numpy as np"
      ]
    },
    {
      "cell_type": "code",
      "execution_count": 3,
      "metadata": {
        "id": "FCCAoZ4gxAX5"
      },
      "outputs": [],
      "source": [
        "# data_loader\n",
        "def load_data(filename):\n",
        "    '''\n",
        "    parameters:\n",
        "    filename (string): datafile\n",
        "    \n",
        "    Returns:\n",
        "    data (list of lists): each list is a sentence of the text \n",
        "    vocab (dictionary): {word: no of times it appears in the text}\n",
        "    '''\n",
        "    fin = io.open(filename, 'r', encoding='utf-8')\n",
        "    data = []\n",
        "    vocab = defaultdict(lambda:0)\n",
        "    for line in fin:\n",
        "        sentence = line.split()\n",
        "        data.append(sentence)\n",
        "        for word in sentence:\n",
        "            vocab[word] += 1\n",
        "    return data, vocab"
      ]
    },
    {
      "cell_type": "code",
      "execution_count": 4,
      "metadata": {
        "id": "2IKak_HrxAX5",
        "colab": {
          "base_uri": "https://localhost:8080/"
        },
        "outputId": "45cb019f-cffb-4a76-e7b7-b431f947d5a0"
      },
      "outputs": [
        {
          "output_type": "stream",
          "name": "stdout",
          "text": [
            "load training set..\n",
            "\n",
            "\n",
            "['<s>', 'my', 'fathers', \"don't\", 'speak', 'dutch.', '</s>']\n",
            "\n",
            "\n",
            "how : 107\n",
            "load validation set\n"
          ]
        }
      ],
      "source": [
        "\n",
        "print(\"load training set..\")\n",
        "print(\"\\n\")\n",
        "train_data, vocab = load_data(\"train1.txt\")\n",
        "print(train_data[0])\n",
        "print(\"\\n\")\n",
        "print(\"how :\",vocab['how'])\n",
        "print(\"load validation set\")\n",
        "valid_data, _ = load_data(\"valid1.txt\")\n"
      ]
    },
    {
      "cell_type": "code",
      "source": [
        "# train_data[1]"
      ],
      "metadata": {
        "id": "Li3Qxz6oCnWX"
      },
      "execution_count": 32,
      "outputs": []
    },
    {
      "cell_type": "code",
      "source": [
        "# valid_data"
      ],
      "metadata": {
        "id": "s6zUGK2v1zs0"
      },
      "execution_count": 31,
      "outputs": []
    },
    {
      "cell_type": "code",
      "source": [
        "# vocab"
      ],
      "metadata": {
        "id": "fsfeII8S4KVn"
      },
      "execution_count": 4,
      "outputs": []
    },
    {
      "cell_type": "code",
      "execution_count": 5,
      "metadata": {
        "id": "pPKba_u1xAX6"
      },
      "outputs": [],
      "source": [
        "def remove_rare_words(data, vocab, mincount = 1):\n",
        "    '''\n",
        "    Parameters:\n",
        "    data (list of lists): each list is a sentence of the text \n",
        "    vocab (dictionary): {word: no of times it appears in the text}\n",
        "    mincount(int): the minimum count \n",
        "    \n",
        "    Returns: \n",
        "    data_with_unk(list of lists): data after replacing rare words with <unk> token\n",
        "    '''\n",
        "    # replace words in data that are not in the vocab \n",
        "    # or have a count that is below mincount\n",
        "    data_with_unk = []\n",
        "\n",
        "    ## FILL CODE\n",
        "    for sentence in data:\n",
        "      sentence_unk=[]\n",
        "      for word in sentence:\n",
        "        if word in vocab and vocab[word] > mincount:\n",
        "          sentence_unk.append(word)\n",
        "        else:\n",
        "          sentence_unk.append(\"<unk>\")\n",
        "      data_with_unk.append(sentence_unk)\n",
        "      #print('*******',data_with_unk)\n",
        "    return data_with_unk"
      ]
    },
    {
      "cell_type": "code",
      "execution_count": 6,
      "metadata": {
        "id": "1n6QQQ29xAX6",
        "colab": {
          "base_uri": "https://localhost:8080/"
        },
        "outputId": "3acdb051-3413-41c7-eb0f-656da7bf1eea"
      },
      "outputs": [
        {
          "output_type": "stream",
          "name": "stdout",
          "text": [
            "remove rare words\n",
            "['<s>', 'my', '<unk>', \"don't\", 'speak', '<unk>', '</s>']\n"
          ]
        }
      ],
      "source": [
        "print(\"remove rare words\")\n",
        "train_data = remove_rare_words(train_data, vocab, mincount = 1)\n",
        "valid_data = remove_rare_words(valid_data, vocab, mincount = 1)\n",
        "#train_data\n",
        "print(train_data[0])\n"
      ]
    },
    {
      "cell_type": "code",
      "source": [
        "# vocab[\"<unk>\"]"
      ],
      "metadata": {
        "colab": {
          "base_uri": "https://localhost:8080/"
        },
        "id": "mOpb7h9qpYeL",
        "outputId": "cd2bb626-8ac8-4ece-d2fd-395f5f9c43cd"
      },
      "execution_count": 15,
      "outputs": [
        {
          "output_type": "execute_result",
          "data": {
            "text/plain": [
              "5730"
            ]
          },
          "metadata": {},
          "execution_count": 15
        }
      ]
    },
    {
      "cell_type": "code",
      "source": [
        "# dic={0:{\"maman\",\"papa\"},1:{'logo','deee'},2:{'fonteh','sari'},3:{'mansour','kkk'},4:{'cameroon','senegal'}}\n",
        "# print(dic.keys())"
      ],
      "metadata": {
        "colab": {
          "base_uri": "https://localhost:8080/"
        },
        "id": "e1PnJBvwoFrO",
        "outputId": "5094e7e8-f9b2-4d74-e5e3-5f314211097c"
      },
      "execution_count": 16,
      "outputs": [
        {
          "output_type": "stream",
          "name": "stdout",
          "text": [
            "dict_keys([0, 1, 2, 3, 4])\n"
          ]
        }
      ]
    },
    {
      "cell_type": "code",
      "source": [
        "# luple=['senegal','mali','Gambie','senegal']\n",
        "# print(tuple(luple))"
      ],
      "metadata": {
        "colab": {
          "base_uri": "https://localhost:8080/"
        },
        "id": "YXCjOJrQilzJ",
        "outputId": "b722428a-6d19-4d74-8ec6-f9c02aa110dc"
      },
      "execution_count": 17,
      "outputs": [
        {
          "output_type": "stream",
          "name": "stdout",
          "text": [
            "('senegal', 'mali', 'Gambie', 'senegal')\n"
          ]
        }
      ]
    },
    {
      "cell_type": "code",
      "execution_count": 7,
      "metadata": {
        "id": "rwRfzUGTxAX7"
      },
      "outputs": [],
      "source": [
        "def build_ngram(data, n):\n",
        "    '''\n",
        "    Parameters:\n",
        "    data (list of lists): each list is a sentence of the text \n",
        "    n (int): size of the n-gram\n",
        "    \n",
        "    Returns:\n",
        "    prob (dictionary of dictionary)\n",
        "    {\n",
        "        context: {word:probability of this word given context}\n",
        "    }\n",
        "    '''\n",
        "    total_number_words = 0\n",
        "    counts = defaultdict(lambda: defaultdict(lambda: 0.0))\n",
        "\n",
        "    for sentence in data:\n",
        "        sentence = tuple(sentence)\n",
        "        ## FILL CODE\n",
        "        # dict can be indexed by tuples\n",
        "        # store in the same dict all the ngrams\n",
        "        # by using the context as a key and the word as a value\n",
        "        '''for word in sentence:\n",
        "          counts[sentence][word]=sentence.count(word)'''               \n",
        "        for no in range(len(sentence)):\n",
        "          total_number_words+=1\n",
        "          for p in range(n):\n",
        "            if no-p < 0:\n",
        "              break\n",
        "            counts[sentence[no-p:no]][sentence[no]]+=1\n",
        "\n",
        "    prob = defaultdict(lambda: defaultdict(lambda: 0.0))\n",
        "    # Build the probabilities from the counts\n",
        "    # Be careful with how you normalize!\n",
        "    #print(counts)\n",
        "    for context in counts.keys():\n",
        "       div=0\n",
        "       for word in counts[context].keys():\n",
        "         div+=counts[context][word]\n",
        "       for word in counts[context].keys():\n",
        "         prob[context][word]=counts[context][word]/div\n",
        "    ## FILL CODE\n",
        "      \n",
        "    return prob"
      ]
    },
    {
      "cell_type": "code",
      "source": [
        "# build_ngram(train_data, 3)"
      ],
      "metadata": {
        "id": "Mm_9gTX8hoWc"
      },
      "execution_count": 31,
      "outputs": []
    },
    {
      "cell_type": "code",
      "execution_count": 8,
      "metadata": {
        "id": "GvzXjPvLxAX7",
        "colab": {
          "base_uri": "https://localhost:8080/"
        },
        "outputId": "8ea7deeb-2ca5-4eb6-da90-cbc92c58e456"
      },
      "outputs": [
        {
          "output_type": "stream",
          "name": "stdout",
          "text": [
            "build ngram model with n =  2\n"
          ]
        }
      ],
      "source": [
        "# RUN TO BUILD NGRAM MODEL\n",
        "\n",
        "n = 2\n",
        "print(\"build ngram model with n = \", n)\n",
        "model = build_ngram(train_data, n)"
      ]
    },
    {
      "cell_type": "code",
      "source": [
        "# model"
      ],
      "metadata": {
        "id": "_DaZMa7nVxdz"
      },
      "execution_count": 18,
      "outputs": []
    },
    {
      "cell_type": "markdown",
      "metadata": {
        "id": "S-buUvVaxAX7"
      },
      "source": [
        "Here, implement a recursive function over shorter and shorter context to compute a \"stupid backoff model\". An interpolation model can also be implemented this way."
      ]
    },
    {
      "cell_type": "code",
      "source": [
        "# aa={'nom':'abdou','prenom':'abdou','age':14}\n",
        "# tt=[1,2,3,4,5,6,7]\n",
        "# print(len(aa))\n",
        "# for j in range(len(aa)):\n",
        "#   if j!=2:\n",
        "#     tt.pop(0)\n",
        "#   elif j==2:\n",
        "#     print(tt)"
      ],
      "metadata": {
        "colab": {
          "base_uri": "https://localhost:8080/"
        },
        "id": "GdYB7qNJRoVe",
        "outputId": "c7188d9a-afef-42e4-9162-8b6f2e8d2e8a"
      },
      "execution_count": 22,
      "outputs": [
        {
          "output_type": "stream",
          "name": "stdout",
          "text": [
            "3\n",
            "[3, 4, 5, 6, 7]\n"
          ]
        }
      ]
    },
    {
      "cell_type": "code",
      "source": [
        ""
      ],
      "metadata": {
        "id": "KT5WI_PRpoll"
      },
      "execution_count": null,
      "outputs": []
    },
    {
      "cell_type": "code",
      "execution_count": 9,
      "metadata": {
        "id": "QpuRw6ywxAX8"
      },
      "outputs": [],
      "source": [
        "def get_prob(model, context, w):\n",
        "    '''\n",
        "    Parameters: \n",
        "    model (dictionary of dictionary)\n",
        "    {\n",
        "        context: {word:probability of this word given context}\n",
        "    } \n",
        "    context (list of strings): a sentence\n",
        "    w(string): the word we need to find it's probability given the context\n",
        "    \n",
        "    Retunrs:\n",
        "    prob(float): probability of this word given the context \n",
        "    '''\n",
        "\n",
        "    # code a recursive function over \n",
        "    # smaller and smaller context\n",
        "    # to compute the backoff model\n",
        "    '''prob=1.0\n",
        "    n=0'''\n",
        "    ## FILL CODE\n",
        "    '''if model[context][w]==0:\n",
        "      for i in range(len(context)):\n",
        "        if model[context][w]==0:\n",
        "          context=context[1:]\n",
        "          n+=1\n",
        "        elif model[context][w]!=0:\n",
        "          prob = model[context][w]*n*0.4'''\n",
        "    if context in model and w in model[context]:\n",
        "      return model[context][w]\n",
        "    else:\n",
        "      return 0.4*get_prob(model,context[1:],w)\n"
      ]
    },
    {
      "cell_type": "code",
      "execution_count": 10,
      "metadata": {
        "id": "ogFVk8LDxAX8"
      },
      "outputs": [],
      "source": [
        "def perplexity(model, data, n):\n",
        "    '''\n",
        "    Parameters: \n",
        "    model (dictionary of dictionary)\n",
        "    {\n",
        "        context: {word:probability of this word given context}\n",
        "    } \n",
        "    data (list of lists): each list is a sentence of the text\n",
        "    n(int): size of the n-gram\n",
        "    \n",
        "    Retunrs:\n",
        "    perp(float): the perplexity of the model \n",
        "    '''\n",
        "    '''prob=1.0\n",
        "    perp=0.0'''\n",
        "    ## FILL CODE\n",
        "    '''for sentence in data:\n",
        "      sentence=tuple(sentence)\n",
        "      #print('8888',sentence)\n",
        "      for i in range(len(sentence)-n):\n",
        "        context=sentence[i:n+i]\n",
        "        #print('****',context)\n",
        "        word=context[-1]\n",
        "        prob*=get_prob(model,context,word)\n",
        "        #print('####',word)\n",
        "        #print('????????',model[context][word])\n",
        "      #   prob*=prob*model[context][word]\n",
        "      perp=(1/prob)**(len(sentence)-2)'''\n",
        "    perp,total = 0.0,0\n",
        "    for sentence in data:\n",
        "      sentence = tuple(sentence)\n",
        "      for t in range(1,len(sentence)):\n",
        "        n_c=min(n-1,t)\n",
        "        context = sentence[t-n_c:t]\n",
        "        perp+=-math.log(get_prob(model,context,sentence[t]))\n",
        "        total+=1\n",
        "    perp = math.exp(perp/total)\n",
        "    return perp"
      ]
    },
    {
      "cell_type": "code",
      "execution_count": 11,
      "metadata": {
        "id": "XSp5PR1MxAX8",
        "colab": {
          "base_uri": "https://localhost:8080/"
        },
        "outputId": "0cd48492-e62e-4cd2-bc63-90b51d86884e"
      },
      "outputs": [
        {
          "output_type": "stream",
          "name": "stdout",
          "text": [
            "The perplexity is 53.582886955857006\n"
          ]
        }
      ],
      "source": [
        "# COMPUTE PERPLEXITY ON VALIDATION SET\n",
        "\n",
        "print(\"The perplexity is\", perplexity(model, valid_data, n=n))"
      ]
    },
    {
      "cell_type": "code",
      "execution_count": 13,
      "metadata": {
        "id": "d9HBcl0NxAX8"
      },
      "outputs": [],
      "source": [
        "def get_proba_distrib(model, context):\n",
        "    ## need to get the the words after the context and their probability of appearance\n",
        "    ## after this context \n",
        "    '''\n",
        "    Parameters: \n",
        "    model (dictionary of dictionary)\n",
        "    {\n",
        "        context: {word:probability of this word given context}\n",
        "    }\n",
        "    context (list of strings): the sentence we need to find the words after it and \n",
        "    thier probabilites\n",
        "    \n",
        "    Retunrs:\n",
        "    words_and_probs(dic): {word: probability of word given context}\n",
        "    \n",
        "    '''\n",
        "    # code a recursive function over context\n",
        "    # to find the longest available ngram\n",
        "    \n",
        "    ## FILL CODE\n",
        "    if context in model:\n",
        "      return model[context]\n",
        "    else:\n",
        "      return get_proba_distrib(model,context[1:])\n",
        "    # return None"
      ]
    },
    {
      "cell_type": "code",
      "execution_count": 16,
      "metadata": {
        "id": "pPcUhdDlxAX8"
      },
      "outputs": [],
      "source": [
        "def generate(model):\n",
        "    '''\n",
        "    Parameters: \n",
        "    model (dictionary of dictionary)\n",
        "    {\n",
        "        context: {word:probability of this word given context}\n",
        "    }\n",
        "    \n",
        "    Retunrs:\n",
        "    sentence (list of strings): a sentence sampled according to the language model. \n",
        "    \n",
        "\n",
        "    '''\n",
        "    # generate a sentence. A sentence starts with a <s> and ends with a </s>\n",
        "    # Possiblly a use function is:\n",
        "    # np.random.choice(x, 1, p = y)\n",
        "\n",
        "    # where x is a list of things to sample from\n",
        "    # and y is a list of probability (of the same length as x)\n",
        "    sentence = [\"<s>\"]\n",
        "    while sentence[-1] != \"</s>\" and len(sentence)<100:\n",
        "        ## FILL CODE\n",
        "        proba = get_proba_distrib(model,tuple(sentence))\n",
        "        w=np.random.choice((list(proba.keys())) , 1, p = list(proba.values()))\n",
        "        sentence.append(w[0])\n",
        "    return sentence"
      ]
    },
    {
      "cell_type": "code",
      "execution_count": 17,
      "metadata": {
        "id": "Mp7xAiv_xAX9",
        "colab": {
          "base_uri": "https://localhost:8080/"
        },
        "outputId": "21534de5-b66f-4f99-933e-17ad0beca0b6"
      },
      "outputs": [
        {
          "output_type": "stream",
          "name": "stdout",
          "text": [
            "Generated sentence:  ['<s>', \"i'll\", 'go', 'to', 'pay', 'more', 'beer', 'with', 'it?', '</s>']\n"
          ]
        }
      ],
      "source": [
        "# GENERATE A SENTENCE FROM THE MODEL\n",
        "\n",
        "print(\"Generated sentence: \",generate(model))"
      ]
    },
    {
      "cell_type": "markdown",
      "metadata": {
        "id": "rQwnZKoexAX9"
      },
      "source": [
        "Once you are done implementing the model, evaluation and generation code, you can try changing the value of `n`, and play with a larger training set (`train2.txt` and `valid2.txt`). You can also try to implement an interpolation model."
      ]
    },
    {
      "cell_type": "code",
      "execution_count": null,
      "metadata": {
        "id": "qUsFyLeVxAX9"
      },
      "outputs": [],
      "source": [
        ""
      ]
    }
  ],
  "metadata": {
    "kernelspec": {
      "display_name": "Python 3",
      "language": "python",
      "name": "python3"
    },
    "language_info": {
      "codemirror_mode": {
        "name": "ipython",
        "version": 3
      },
      "file_extension": ".py",
      "mimetype": "text/x-python",
      "name": "python",
      "nbconvert_exporter": "python",
      "pygments_lexer": "ipython3",
      "version": "3.6.2+"
    },
    "colab": {
      "name": "ABDOU_NIANG_n_gram_models.ipynb",
      "provenance": [],
      "include_colab_link": true
    }
  },
  "nbformat": 4,
  "nbformat_minor": 0
}